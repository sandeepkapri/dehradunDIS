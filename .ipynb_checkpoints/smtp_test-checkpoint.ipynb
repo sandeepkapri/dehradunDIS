{
 "cells": [
  {
   "cell_type": "markdown",
   "id": "wound-latvia",
   "metadata": {},
   "source": [
    "# SMTP Test\n",
    "\n",
    "Test Mail ID: jjjhkrmntest@gmail.com\n",
    "\n",
    "Pass: RBS@1234\n",
    "\n",
    "Tut: https://realpython.com/python-send-email/"
   ]
  },
  {
   "cell_type": "code",
   "execution_count": null,
   "id": "genuine-uncertainty",
   "metadata": {},
   "outputs": [],
   "source": []
  }
 ],
 "metadata": {
  "kernelspec": {
   "display_name": "Python 3",
   "language": "python",
   "name": "python3"
  },
  "language_info": {
   "codemirror_mode": {
    "name": "ipython",
    "version": 3
   },
   "file_extension": ".py",
   "mimetype": "text/x-python",
   "name": "python",
   "nbconvert_exporter": "python",
   "pygments_lexer": "ipython3",
   "version": "3.8.5"
  }
 },
 "nbformat": 4,
 "nbformat_minor": 5
}
