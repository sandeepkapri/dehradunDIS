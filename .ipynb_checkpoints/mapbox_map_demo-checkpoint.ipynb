{
 "cells": [
  {
   "cell_type": "code",
   "execution_count": 30,
   "id": "7373e5b8",
   "metadata": {},
   "outputs": [],
   "source": [
    "import json\n",
    "from tqdm import tqdm_notebook"
   ]
  },
  {
   "cell_type": "code",
   "execution_count": 38,
   "id": "c3a26aa8",
   "metadata": {},
   "outputs": [],
   "source": [
    "with open(r'E:\\RBS_Projects\\dehradunDIS\\data_staging_area\\plots.geojson') as f:\n",
    "    znew = json.load(f)"
   ]
  },
  {
   "cell_type": "code",
   "execution_count": 39,
   "id": "de0c5168",
   "metadata": {},
   "outputs": [
    {
     "name": "stderr",
     "output_type": "stream",
     "text": [
      "<ipython-input-39-3814411c7a87>:3: TqdmDeprecationWarning: This function will be removed in tqdm==5.0.0\n",
      "Please use `tqdm.notebook.tqdm` instead of `tqdm.tqdm_notebook`\n",
      "  for x in tqdm_notebook(znew['features']):\n"
     ]
    },
    {
     "data": {
      "application/vnd.jupyter.widget-view+json": {
       "model_id": "a5a2b9f8e6154cd69c9f56dd3ff5695c",
       "version_major": 2,
       "version_minor": 0
      },
      "text/plain": [
       "  0%|          | 0/4412 [00:00<?, ?it/s]"
      ]
     },
     "metadata": {},
     "output_type": "display_data"
    }
   ],
   "source": [
    "features_list = []\n",
    "\n",
    "for x in tqdm_notebook(znew['features']):\n",
    "    \n",
    "    geometry_dict = x['geometry']\n",
    "    \n",
    "    geometry_dict['type'] = 'Polygon'\n",
    "    \n",
    "    if(len(geometry_dict['coordinates']) > 0):\n",
    "        geometry_dict['coordinates'] = geometry_dict['coordinates'][0]\n",
    "\n",
    "        dict_to_be_appended = {'type': 'Feature', 'properties': x['properties'], \n",
    "                               'geometry': geometry_dict, 'id': x['properties']['UID']}\n",
    "\n",
    "        features_list.append(dict_to_be_appended)"
   ]
  },
  {
   "cell_type": "code",
   "execution_count": 40,
   "id": "a8f096ee",
   "metadata": {},
   "outputs": [],
   "source": [
    "znew_arranged = {'type': 'FeatureCollection', 'features': features_list}"
   ]
  },
  {
   "cell_type": "code",
   "execution_count": 42,
   "id": "55a1e999",
   "metadata": {},
   "outputs": [],
   "source": [
    "with open(\"data_staging_area\\plots_corrected_for_dash.geojson\", \"w\") as outfile:  \n",
    "    json.dump(znew_arranged, outfile) "
   ]
  },
  {
   "cell_type": "code",
   "execution_count": null,
   "id": "7ed88afe",
   "metadata": {},
   "outputs": [],
   "source": []
  }
 ],
 "metadata": {
  "kernelspec": {
   "display_name": "Python 3",
   "language": "python",
   "name": "python3"
  },
  "language_info": {
   "codemirror_mode": {
    "name": "ipython",
    "version": 3
   },
   "file_extension": ".py",
   "mimetype": "text/x-python",
   "name": "python",
   "nbconvert_exporter": "python",
   "pygments_lexer": "ipython3",
   "version": "3.8.8"
  }
 },
 "nbformat": 4,
 "nbformat_minor": 5
}
