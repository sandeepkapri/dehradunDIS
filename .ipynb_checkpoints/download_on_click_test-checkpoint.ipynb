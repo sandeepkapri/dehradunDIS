{
 "cells": [
  {
   "cell_type": "code",
   "execution_count": 1,
   "id": "bb65270c",
   "metadata": {},
   "outputs": [],
   "source": [
    "import dash\n",
    "import os\n",
    "import dash_html_components as html\n",
    "import dash_core_components as dcc\n",
    "from dash.dependencies import Output, Input, State\n",
    "import pandas as pd\n",
    "import flask"
   ]
  },
  {
   "cell_type": "code",
   "execution_count": 2,
   "id": "c47fe8ce",
   "metadata": {},
   "outputs": [],
   "source": [
    "app = dash.Dash(__name__)\n",
    "\n",
    "app.layout = html.Div([\n",
    "                    dcc.Input(id='input-on-submit', type='text'),\n",
    "                    html.Button('Submit', id='submit-val', n_clicks=0),\n",
    "                    html.A(children=\"Download File\", id='link', href = '')\n",
    "            ])\n",
    "\n",
    "@app.callback([Output('link', 'href')],\n",
    "              [Input('submit-val', 'n_clicks')],\n",
    "             [State('input-on-submit', 'value')])\n",
    "def test(n, val):\n",
    "    \n",
    "    if(n):\n",
    "        table = [int(val) * i for i in range(1,20)]\n",
    "        print(val, table)\n",
    "        relative_filename = os.path.join(\n",
    "            'download_test',\n",
    "            '{}-table.csv'.format(val)\n",
    "        )\n",
    "\n",
    "        absolute_filename = os.path.join(os.getcwd(), relative_filename)\n",
    "\n",
    "        df = pd.DataFrame()\n",
    "        df['vals'] = table\n",
    "        df.to_csv(absolute_filename, index=None)\n",
    "\n",
    "        return '/{}'.format(relative_filename)\n",
    "    \n",
    "#IMPORTANT: Have to add this as well...\n",
    "@app.server.route('/download_test/<path:path>')\n",
    "def serve_static(path):\n",
    "    root_dir = os.getcwd()\n",
    "    return flask.send_from_directory(\n",
    "        os.path.join(root_dir, 'download_test'), path\n",
    "    )\n"
   ]
  },
  {
   "cell_type": "code",
   "execution_count": null,
   "id": "590d1300",
   "metadata": {},
   "outputs": [
    {
     "name": "stdout",
     "output_type": "stream",
     "text": [
      "Dash is running on http://127.0.0.1:8050/\n",
      "\n",
      " * Serving Flask app \"__main__\" (lazy loading)\n",
      " * Environment: production\n",
      "   WARNING: This is a development server. Do not use it in a production deployment.\n",
      "   Use a production WSGI server instead.\n",
      " * Debug mode: off\n"
     ]
    },
    {
     "name": "stderr",
     "output_type": "stream",
     "text": [
      " * Running on http://127.0.0.1:8050/ (Press CTRL+C to quit)\n",
      "127.0.0.1 - - [10/May/2021 13:17:58] \"\u001b[37mGET / HTTP/1.1\u001b[0m\" 200 -\n",
      "127.0.0.1 - - [10/May/2021 13:17:58] \"\u001b[37mGET /_dash-layout HTTP/1.1\u001b[0m\" 200 -\n",
      "127.0.0.1 - - [10/May/2021 13:17:58] \"\u001b[37mGET /_dash-dependencies HTTP/1.1\u001b[0m\" 200 -\n",
      "127.0.0.1 - - [10/May/2021 13:17:58] \"\u001b[37mGET /_favicon.ico?v=1.16.3 HTTP/1.1\u001b[0m\" 200 -\n"
     ]
    },
    {
     "name": "stdout",
     "output_type": "stream",
     "text": [
      "Exception on /_dash-update-component [POST]\n",
      "Traceback (most recent call last):\n",
      "  File \"C:\\Miniconda3\\lib\\site-packages\\flask\\app.py\", line 2447, in wsgi_app\n",
      "    response = self.full_dispatch_request()\n",
      "  File \"C:\\Miniconda3\\lib\\site-packages\\flask\\app.py\", line 1952, in full_dispatch_request\n",
      "    rv = self.handle_user_exception(e)\n",
      "  File \"C:\\Miniconda3\\lib\\site-packages\\flask\\app.py\", line 1821, in handle_user_exception\n",
      "    reraise(exc_type, exc_value, tb)\n",
      "  File \"C:\\Miniconda3\\lib\\site-packages\\flask\\_compat.py\", line 39, in reraise\n",
      "    raise value\n",
      "  File \"C:\\Miniconda3\\lib\\site-packages\\flask\\app.py\", line 1950, in full_dispatch_request\n",
      "    rv = self.dispatch_request()\n",
      "  File \"C:\\Miniconda3\\lib\\site-packages\\flask\\app.py\", line 1936, in dispatch_request\n",
      "    return self.view_functions[rule.endpoint](**req.view_args)\n",
      "  File \"C:\\Miniconda3\\lib\\site-packages\\dash\\dash.py\", line 1072, in dispatch\n",
      "    response.set_data(func(*args, outputs_list=outputs_list))\n",
      "  File \"C:\\Miniconda3\\lib\\site-packages\\dash\\dash.py\", line 1017, in add_context\n",
      "    _validate.validate_multi_return(output_spec, output_value, callback_id)\n",
      "  File \"C:\\Miniconda3\\lib\\site-packages\\dash\\_validate.py\", line 115, in validate_multi_return\n",
      "    raise exceptions.InvalidCallbackReturnValue(\n",
      "dash.exceptions.InvalidCallbackReturnValue: The callback ..link.href.. is a multi-output.\n",
      "Expected the output type to be a list or tuple but got:\n",
      "None.\n"
     ]
    },
    {
     "name": "stderr",
     "output_type": "stream",
     "text": [
      "127.0.0.1 - - [10/May/2021 13:17:58] \"\u001b[35m\u001b[1mPOST /_dash-update-component HTTP/1.1\u001b[0m\" 500 -\n"
     ]
    },
    {
     "name": "stdout",
     "output_type": "stream",
     "text": [
      "80 [80, 160, 240, 320, 400, 480, 560, 640, 720, 800, 880, 960, 1040, 1120, 1200, 1280, 1360, 1440, 1520]\n",
      "Exception on /_dash-update-component [POST]\n",
      "Traceback (most recent call last):\n",
      "  File \"C:\\Miniconda3\\lib\\site-packages\\flask\\app.py\", line 2447, in wsgi_app\n",
      "    response = self.full_dispatch_request()\n",
      "  File \"C:\\Miniconda3\\lib\\site-packages\\flask\\app.py\", line 1952, in full_dispatch_request\n",
      "    rv = self.handle_user_exception(e)\n",
      "  File \"C:\\Miniconda3\\lib\\site-packages\\flask\\app.py\", line 1821, in handle_user_exception\n",
      "    reraise(exc_type, exc_value, tb)\n",
      "  File \"C:\\Miniconda3\\lib\\site-packages\\flask\\_compat.py\", line 39, in reraise\n",
      "    raise value\n",
      "  File \"C:\\Miniconda3\\lib\\site-packages\\flask\\app.py\", line 1950, in full_dispatch_request\n",
      "    rv = self.dispatch_request()\n",
      "  File \"C:\\Miniconda3\\lib\\site-packages\\flask\\app.py\", line 1936, in dispatch_request\n",
      "    return self.view_functions[rule.endpoint](**req.view_args)\n",
      "  File \"C:\\Miniconda3\\lib\\site-packages\\dash\\dash.py\", line 1072, in dispatch\n",
      "    response.set_data(func(*args, outputs_list=outputs_list))\n",
      "  File \"C:\\Miniconda3\\lib\\site-packages\\dash\\dash.py\", line 1017, in add_context\n",
      "    _validate.validate_multi_return(output_spec, output_value, callback_id)\n",
      "  File \"C:\\Miniconda3\\lib\\site-packages\\dash\\_validate.py\", line 115, in validate_multi_return\n",
      "    raise exceptions.InvalidCallbackReturnValue(\n",
      "dash.exceptions.InvalidCallbackReturnValue: The callback ..link.href.. is a multi-output.\n",
      "Expected the output type to be a list or tuple but got:\n",
      "'/download_test\\\\80-table.csv'.\n"
     ]
    },
    {
     "name": "stderr",
     "output_type": "stream",
     "text": [
      "127.0.0.1 - - [10/May/2021 13:18:04] \"\u001b[35m\u001b[1mPOST /_dash-update-component HTTP/1.1\u001b[0m\" 500 -\n",
      "127.0.0.1 - - [10/May/2021 13:18:05] \"\u001b[37mGET / HTTP/1.1\u001b[0m\" 200 -\n",
      "127.0.0.1 - - [10/May/2021 13:18:05] \"\u001b[37mGET /_dash-layout HTTP/1.1\u001b[0m\" 200 -\n",
      "127.0.0.1 - - [10/May/2021 13:18:05] \"\u001b[37mGET /_dash-dependencies HTTP/1.1\u001b[0m\" 200 -\n"
     ]
    },
    {
     "name": "stdout",
     "output_type": "stream",
     "text": [
      "Exception on /_dash-update-component [POST]\n",
      "Traceback (most recent call last):\n",
      "  File \"C:\\Miniconda3\\lib\\site-packages\\flask\\app.py\", line 2447, in wsgi_app\n",
      "    response = self.full_dispatch_request()\n",
      "  File \"C:\\Miniconda3\\lib\\site-packages\\flask\\app.py\", line 1952, in full_dispatch_request\n",
      "    rv = self.handle_user_exception(e)\n",
      "  File \"C:\\Miniconda3\\lib\\site-packages\\flask\\app.py\", line 1821, in handle_user_exception\n",
      "    reraise(exc_type, exc_value, tb)\n",
      "  File \"C:\\Miniconda3\\lib\\site-packages\\flask\\_compat.py\", line 39, in reraise\n",
      "    raise value\n",
      "  File \"C:\\Miniconda3\\lib\\site-packages\\flask\\app.py\", line 1950, in full_dispatch_request\n",
      "    rv = self.dispatch_request()\n",
      "  File \"C:\\Miniconda3\\lib\\site-packages\\flask\\app.py\", line 1936, in dispatch_request\n",
      "    return self.view_functions[rule.endpoint](**req.view_args)\n",
      "  File \"C:\\Miniconda3\\lib\\site-packages\\dash\\dash.py\", line 1072, in dispatch\n",
      "    response.set_data(func(*args, outputs_list=outputs_list))\n",
      "  File \"C:\\Miniconda3\\lib\\site-packages\\dash\\dash.py\", line 1017, in add_context\n",
      "    _validate.validate_multi_return(output_spec, output_value, callback_id)\n",
      "  File \"C:\\Miniconda3\\lib\\site-packages\\dash\\_validate.py\", line 115, in validate_multi_return\n",
      "    raise exceptions.InvalidCallbackReturnValue(\n",
      "dash.exceptions.InvalidCallbackReturnValue: The callback ..link.href.. is a multi-output.\n",
      "Expected the output type to be a list or tuple but got:\n",
      "None.\n"
     ]
    },
    {
     "name": "stderr",
     "output_type": "stream",
     "text": [
      "127.0.0.1 - - [10/May/2021 13:18:06] \"\u001b[35m\u001b[1mPOST /_dash-update-component HTTP/1.1\u001b[0m\" 500 -\n"
     ]
    }
   ],
   "source": [
    "if __name__ == '__main__':\n",
    "    app.run_server()"
   ]
  },
  {
   "cell_type": "code",
   "execution_count": null,
   "id": "e95774bd",
   "metadata": {},
   "outputs": [],
   "source": []
  }
 ],
 "metadata": {
  "kernelspec": {
   "display_name": "Python 3",
   "language": "python",
   "name": "python3"
  },
  "language_info": {
   "codemirror_mode": {
    "name": "ipython",
    "version": 3
   },
   "file_extension": ".py",
   "mimetype": "text/x-python",
   "name": "python",
   "nbconvert_exporter": "python",
   "pygments_lexer": "ipython3",
   "version": "3.8.8"
  }
 },
 "nbformat": 4,
 "nbformat_minor": 5
}
