{
 "cells": [
  {
   "cell_type": "code",
   "execution_count": 1,
   "id": "68732667",
   "metadata": {},
   "outputs": [],
   "source": [
    "import dash\n",
    "\n",
    "import dash_html_components as html\n",
    "import dash_core_components as dcc\n",
    "from dash.dependencies import Output, Input, State\n",
    "from dash.exceptions import PreventUpdate"
   ]
  },
  {
   "cell_type": "code",
   "execution_count": 2,
   "id": "e8ee76ec",
   "metadata": {},
   "outputs": [],
   "source": [
    "app = dash.Dash(__name__)\n",
    "\n",
    "app.layout = html.Div([\n",
    "                    dcc.Input(id='input-on-submit', type='text'),\n",
    "                    html.Button('Submit', id='submit-val', n_clicks=0),\n",
    "                    html.Button('Show Data', id='show-val', n_clicks=0),\n",
    "                    dcc.Store(id='local', storage_type='local'),\n",
    "                    html.P(id = 'out'),\n",
    "            ])\n",
    "\n",
    "\n",
    "@app.callback(\n",
    "    Output('local', 'data'),\n",
    "    [Input('submit-val', 'n_clicks')],\n",
    "    [State('input-on-submit', 'value')])\n",
    "\n",
    "def test(n, uname):\n",
    "    if(n):\n",
    "        return {'uname': uname}\n",
    "    else:\n",
    "        raise PreventUpdate\n",
    "\n",
    "@app.callback(\n",
    "    Output('out', 'children'),\n",
    "    [Input('local', 'modified_timestamp')],\n",
    "    [State('local', 'data')])\n",
    "\n",
    "def test2(ts, data):\n",
    "    if ts is None:\n",
    "        raise PreventUpdate\n",
    "     \n",
    "    \n",
    "    try:\n",
    "        return str(data['uname'])\n",
    "    except:\n",
    "        return \"No Data\""
   ]
  },
  {
   "cell_type": "code",
   "execution_count": null,
   "id": "7186ced8",
   "metadata": {},
   "outputs": [
    {
     "name": "stdout",
     "output_type": "stream",
     "text": [
      "Dash is running on http://127.0.0.1:8050/\n",
      "\n",
      " * Serving Flask app \"__main__\" (lazy loading)\n",
      " * Environment: production\n",
      "   WARNING: This is a development server. Do not use it in a production deployment.\n",
      "   Use a production WSGI server instead.\n",
      " * Debug mode: off\n"
     ]
    },
    {
     "name": "stderr",
     "output_type": "stream",
     "text": [
      " * Running on http://127.0.0.1:8050/ (Press CTRL+C to quit)\n",
      "127.0.0.1 - - [10/May/2021 12:53:19] \"\u001b[37mGET / HTTP/1.1\u001b[0m\" 200 -\n",
      "127.0.0.1 - - [10/May/2021 12:53:20] \"\u001b[37mGET /_dash-layout HTTP/1.1\u001b[0m\" 200 -\n",
      "127.0.0.1 - - [10/May/2021 12:53:20] \"\u001b[37mGET /_dash-dependencies HTTP/1.1\u001b[0m\" 200 -\n",
      "127.0.0.1 - - [10/May/2021 12:53:20] \"\u001b[37mPOST /_dash-update-component HTTP/1.1\u001b[0m\" 204 -\n",
      "127.0.0.1 - - [10/May/2021 12:53:20] \"\u001b[37mPOST /_dash-update-component HTTP/1.1\u001b[0m\" 200 -\n",
      "127.0.0.1 - - [10/May/2021 12:53:26] \"\u001b[37mPOST /_dash-update-component HTTP/1.1\u001b[0m\" 200 -\n",
      "127.0.0.1 - - [10/May/2021 12:53:26] \"\u001b[37mPOST /_dash-update-component HTTP/1.1\u001b[0m\" 200 -\n",
      "127.0.0.1 - - [10/May/2021 12:53:29] \"\u001b[37mGET / HTTP/1.1\u001b[0m\" 200 -\n",
      "127.0.0.1 - - [10/May/2021 12:53:29] \"\u001b[37mGET /_dash-layout HTTP/1.1\u001b[0m\" 200 -\n",
      "127.0.0.1 - - [10/May/2021 12:53:29] \"\u001b[37mGET /_dash-dependencies HTTP/1.1\u001b[0m\" 200 -\n",
      "127.0.0.1 - - [10/May/2021 12:53:29] \"\u001b[37mPOST /_dash-update-component HTTP/1.1\u001b[0m\" 204 -\n",
      "127.0.0.1 - - [10/May/2021 12:53:29] \"\u001b[37mPOST /_dash-update-component HTTP/1.1\u001b[0m\" 200 -\n",
      "127.0.0.1 - - [10/May/2021 12:53:43] \"\u001b[37mGET / HTTP/1.1\u001b[0m\" 200 -\n",
      "127.0.0.1 - - [10/May/2021 12:53:43] \"\u001b[37mGET /assets/admin.css?m=1620298963.2226164 HTTP/1.1\u001b[0m\" 200 -\n",
      "127.0.0.1 - - [10/May/2021 12:53:43] \"\u001b[37mGET /assets/navbar.css?m=1617688228.0 HTTP/1.1\u001b[0m\" 200 -\n",
      "127.0.0.1 - - [10/May/2021 12:53:43] \"\u001b[37mGET /assets/main.css?m=1617688228.0 HTTP/1.1\u001b[0m\" 200 -\n",
      "127.0.0.1 - - [10/May/2021 12:53:43] \"\u001b[37mGET /assets/logout.css?m=1617688228.0 HTTP/1.1\u001b[0m\" 200 -\n",
      "127.0.0.1 - - [10/May/2021 12:53:43] \"\u001b[37mGET /assets/login.css?m=1617688228.0 HTTP/1.1\u001b[0m\" 200 -\n",
      "127.0.0.1 - - [10/May/2021 12:53:43] \"\u001b[37mGET /assets/dataset-page.css?m=1620299212.544934 HTTP/1.1\u001b[0m\" 200 -\n",
      "127.0.0.1 - - [10/May/2021 12:53:43] \"\u001b[37mGET /assets/page.css?m=1617688228.0 HTTP/1.1\u001b[0m\" 200 -\n",
      "127.0.0.1 - - [10/May/2021 12:53:43] \"\u001b[37mGET /assets/userinfo.css?m=1617688228.0 HTTP/1.1\u001b[0m\" 200 -\n",
      "127.0.0.1 - - [10/May/2021 12:53:43] \"\u001b[37mGET /_dash-component-suites/dash_renderer/polyfill@7.v1_8_2m1602972844.8.7.min.js HTTP/1.1\u001b[0m\" 200 -\n",
      "127.0.0.1 - - [10/May/2021 12:53:43] \"\u001b[37mGET /_dash-component-suites/dash_renderer/react@16.v1_8_2m1602972844.13.0.min.js HTTP/1.1\u001b[0m\" 200 -\n",
      "127.0.0.1 - - [10/May/2021 12:53:43] \"\u001b[37mGET /_dash-component-suites/dash_renderer/prop-types@15.v1_8_2m1602972844.7.2.min.js HTTP/1.1\u001b[0m\" 200 -\n",
      "127.0.0.1 - - [10/May/2021 12:53:43] \"\u001b[37mGET /_dash-component-suites/dash_renderer/react-dom@16.v1_8_2m1602972844.13.0.min.js HTTP/1.1\u001b[0m\" 200 -\n",
      "127.0.0.1 - - [10/May/2021 12:53:43] \"\u001b[37mGET /_dash-component-suites/dash_core_components/dash_core_components-shared.v1_12_1m1602972845.js HTTP/1.1\u001b[0m\" 200 -\n",
      "127.0.0.1 - - [10/May/2021 12:53:43] \"\u001b[37mGET /_dash-component-suites/dash_core_components/dash_core_components.v1_12_1m1602972845.min.js HTTP/1.1\u001b[0m\" 200 -\n",
      "127.0.0.1 - - [10/May/2021 12:53:43] \"\u001b[37mGET /_dash-component-suites/dash_html_components/dash_html_components.v1_1_1m1602972847.min.js HTTP/1.1\u001b[0m\" 200 -\n",
      "127.0.0.1 - - [10/May/2021 12:53:43] \"\u001b[37mGET /_dash-component-suites/dash_renderer/dash_renderer.v1_8_2m1602972844.min.js HTTP/1.1\u001b[0m\" 200 -\n",
      "127.0.0.1 - - [10/May/2021 12:53:43] \"\u001b[37mGET /_dash-layout HTTP/1.1\u001b[0m\" 200 -\n",
      "127.0.0.1 - - [10/May/2021 12:53:43] \"\u001b[37mGET /_dash-dependencies HTTP/1.1\u001b[0m\" 200 -\n",
      "127.0.0.1 - - [10/May/2021 12:53:43] \"\u001b[37mPOST /_dash-update-component HTTP/1.1\u001b[0m\" 204 -\n",
      "127.0.0.1 - - [10/May/2021 12:53:43] \"\u001b[37mPOST /_dash-update-component HTTP/1.1\u001b[0m\" 200 -\n",
      "127.0.0.1 - - [10/May/2021 12:53:56] \"\u001b[37mPOST /_dash-update-component HTTP/1.1\u001b[0m\" 200 -\n",
      "127.0.0.1 - - [10/May/2021 12:53:56] \"\u001b[37mPOST /_dash-update-component HTTP/1.1\u001b[0m\" 200 -\n",
      "127.0.0.1 - - [10/May/2021 12:54:00] \"\u001b[37mGET / HTTP/1.1\u001b[0m\" 200 -\n",
      "127.0.0.1 - - [10/May/2021 12:54:00] \"\u001b[37mGET /_dash-layout HTTP/1.1\u001b[0m\" 200 -\n",
      "127.0.0.1 - - [10/May/2021 12:54:00] \"\u001b[37mGET /_dash-dependencies HTTP/1.1\u001b[0m\" 200 -\n",
      "127.0.0.1 - - [10/May/2021 12:54:00] \"\u001b[37mGET /_favicon.ico?v=1.16.3 HTTP/1.1\u001b[0m\" 200 -\n",
      "127.0.0.1 - - [10/May/2021 12:54:00] \"\u001b[37mPOST /_dash-update-component HTTP/1.1\u001b[0m\" 204 -\n",
      "127.0.0.1 - - [10/May/2021 12:54:00] \"\u001b[37mPOST /_dash-update-component HTTP/1.1\u001b[0m\" 200 -\n"
     ]
    }
   ],
   "source": [
    "if __name__ == '__main__':\n",
    "    app.run_server()"
   ]
  },
  {
   "cell_type": "code",
   "execution_count": null,
   "id": "a10bdf0e",
   "metadata": {},
   "outputs": [],
   "source": []
  }
 ],
 "metadata": {
  "kernelspec": {
   "display_name": "Python 3",
   "language": "python",
   "name": "python3"
  },
  "language_info": {
   "codemirror_mode": {
    "name": "ipython",
    "version": 3
   },
   "file_extension": ".py",
   "mimetype": "text/x-python",
   "name": "python",
   "nbconvert_exporter": "python",
   "pygments_lexer": "ipython3",
   "version": "3.8.8"
  }
 },
 "nbformat": 4,
 "nbformat_minor": 5
}
