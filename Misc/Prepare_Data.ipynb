{
 "cells": [
  {
   "cell_type": "code",
   "execution_count": 2,
   "metadata": {},
   "outputs": [],
   "source": [
    "import geopandas as gpd\n",
    "from glob import glob"
   ]
  },
  {
   "cell_type": "code",
   "execution_count": 51,
   "metadata": {},
   "outputs": [],
   "source": [
    "shp_files = glob(r'E:\\RBS_Projects\\DIS\\Misc\\Database_new\\Database\\*.shp')"
   ]
  },
  {
   "cell_type": "code",
   "execution_count": 80,
   "metadata": {},
   "outputs": [],
   "source": [
    "all_df = gpd.GeoDataFrame()\n",
    "all_df['UID'] = []\n",
    "all_df['Plot_No'] = []\n",
    "all_df['FileName'] = []\n",
    "all_df['geometry'] = []"
   ]
  },
  {
   "cell_type": "code",
   "execution_count": 81,
   "metadata": {},
   "outputs": [
    {
     "name": "stdout",
     "output_type": "stream",
     "text": [
      "E:\\RBS_Projects\\DIS\\Misc\\Database_new\\Database\\Ganga_Nagari_Bahadrabad.shp added.\n",
      "E:\\RBS_Projects\\DIS\\Misc\\Database_new\\Database\\IIE_Bhimtal.shp added.\n"
     ]
    },
    {
     "name": "stderr",
     "output_type": "stream",
     "text": [
      "C:\\Miniconda3\\lib\\site-packages\\geopandas\\geodataframe.py:853: SettingWithCopyWarning: \n",
      "A value is trying to be set on a copy of a slice from a DataFrame.\n",
      "Try using .loc[row_indexer,col_indexer] = value instead\n",
      "\n",
      "See the caveats in the documentation: https://pandas.pydata.org/pandas-docs/stable/user_guide/indexing.html#returning-a-view-versus-a-copy\n",
      "  super(GeoDataFrame, self).__setitem__(key, value)\n"
     ]
    },
    {
     "name": "stdout",
     "output_type": "stream",
     "text": [
      "E:\\RBS_Projects\\DIS\\Misc\\Database_new\\Database\\IIE_Haridwar.shp added.\n",
      "E:\\RBS_Projects\\DIS\\Misc\\Database_new\\Database\\IIE_Kashipur(Escort_Farm).shp added.\n",
      "E:\\RBS_Projects\\DIS\\Misc\\Database_new\\Database\\iie_kotdwar.shp added.\n",
      "E:\\RBS_Projects\\DIS\\Misc\\Database_new\\Database\\IIE_Pantnagar.shp added.\n",
      "E:\\RBS_Projects\\DIS\\Misc\\Database_new\\Database\\IIE_Sitarganj.shp added.\n",
      "E:\\RBS_Projects\\DIS\\Misc\\Database_new\\Database\\IT_Park_Plot1.shp added.\n",
      "E:\\RBS_Projects\\DIS\\Misc\\Database_new\\Database\\Pharmacity_Selaqui.shp added.\n",
      "E:\\RBS_Projects\\DIS\\Misc\\Database_new\\Database\\SIDC_Bajpur_1.shp added.\n",
      "E:\\RBS_Projects\\DIS\\Misc\\Database_new\\Database\\SIDC_Bajpur_2.shp added.\n",
      "E:\\RBS_Projects\\DIS\\Misc\\Database_new\\Database\\SIDC_Balbhadrapur.shp added.\n",
      "E:\\RBS_Projects\\DIS\\Misc\\Database_new\\Database\\SIDC_Bhadrabad_Site_I.shp added.\n",
      "E:\\RBS_Projects\\DIS\\Misc\\Database_new\\Database\\SIDC_Haridwar.shp added.\n",
      "E:\\RBS_Projects\\DIS\\Misc\\Database_new\\Database\\SIDC_Jashodarpur.shp added.\n",
      "E:\\RBS_Projects\\DIS\\Misc\\Database_new\\Database\\SIDC_Kashipur.shp added.\n",
      "E:\\RBS_Projects\\DIS\\Misc\\Database_new\\Database\\SIDC_Landora.shp added.\n",
      "E:\\RBS_Projects\\DIS\\Misc\\Database_new\\Database\\SIDC_Mohan.shp added.\n",
      "E:\\RBS_Projects\\DIS\\Misc\\Database_new\\Database\\SIDC_Munikireti.shp added.\n",
      "E:\\RBS_Projects\\DIS\\Misc\\Database_new\\Database\\SIDC_Peepalsana.shp added.\n",
      "E:\\RBS_Projects\\DIS\\Misc\\Database_new\\Database\\SIDC_Selaqui.shp added.\n",
      "E:\\RBS_Projects\\DIS\\Misc\\Database_new\\Database\\SIDC_Tatasu_Mazadi.shp added.\n",
      "E:\\RBS_Projects\\DIS\\Misc\\Database_new\\Database\\Textile_Park_Jaspur.shp added.\n"
     ]
    }
   ],
   "source": [
    "for f in shp_files:\n",
    "    df = gpd.read_file(f)\n",
    "    \n",
    "    if(f == 'E:\\RBS_Projects\\DIS\\Misc\\Database_new\\Database\\IIE_Sitarganj.shp'):\n",
    "        \n",
    "        new_df = df[['UID', 'Stg_Plot_3', 'geometry']]\n",
    "            \n",
    "        new_df['Plot_No'] = new_df['Stg_Plot_3'].values\n",
    "\n",
    "        new_df = new_df.drop('Stg_Plot_3', axis = 1)\n",
    "    \n",
    "    elif(f == 'E:\\RBS_Projects\\DIS\\Misc\\Database_new\\Database\\IT_Park_Plot1.shp'):\n",
    "        \n",
    "        new_df = df[['UID', 'plotno', 'geometry']]\n",
    "            \n",
    "        new_df['Plot_No'] = new_df['plotno'].values\n",
    "\n",
    "        new_df = new_df.drop('plotno', axis = 1)\n",
    "    \n",
    "    else:\n",
    "        \n",
    "        new_df = df[['UID', 'Plot_No', 'geometry']]\n",
    "    \n",
    "    print('{} added.'.format(f))\n",
    "    \n",
    "    new_df['FileName'] = [f.split('\\\\')[-1]] * len(new_df)\n",
    "    \n",
    "    all_df = all_df.append(new_df)\n",
    "    \n",
    "    \n",
    "\n"
   ]
  },
  {
   "cell_type": "code",
   "execution_count": 88,
   "metadata": {},
   "outputs": [
    {
     "data": {
      "text/plain": [
       "<Geographic 2D CRS: EPSG:4326>\n",
       "Name: WGS 84\n",
       "Axis Info [ellipsoidal]:\n",
       "- Lat[north]: Geodetic latitude (degree)\n",
       "- Lon[east]: Geodetic longitude (degree)\n",
       "Area of Use:\n",
       "- name: World\n",
       "- bounds: (-180.0, -90.0, 180.0, 90.0)\n",
       "Datum: World Geodetic System 1984\n",
       "- Ellipsoid: WGS 84\n",
       "- Prime Meridian: Greenwich"
      ]
     },
     "execution_count": 88,
     "metadata": {},
     "output_type": "execute_result"
    }
   ],
   "source": [
    "df.crs"
   ]
  },
  {
   "cell_type": "code",
   "execution_count": 90,
   "metadata": {},
   "outputs": [
    {
     "data": {
      "text/plain": [
       "0     POLYGON ((78.06400 29.92844, 78.06394 29.92846...\n",
       "1     POLYGON ((78.06394 29.92846, 78.06388 29.92848...\n",
       "2     POLYGON ((78.06383 29.92849, 78.06380 29.92839...\n",
       "3     POLYGON ((78.06373 29.92853, 78.06369 29.92854...\n",
       "4     POLYGON ((78.06369 29.92854, 78.06363 29.92856...\n",
       "                            ...                        \n",
       "22    POLYGON ((78.80680 29.28686, 78.80680 29.28686...\n",
       "23    POLYGON ((78.80671 29.28721, 78.80688 29.28739...\n",
       "24    POLYGON ((78.80697 29.28703, 78.80697 29.28703...\n",
       "25    POLYGON ((78.80709 29.28760, 78.80735 29.28741...\n",
       "26    POLYGON ((78.80735 29.28741, 78.80753 29.28729...\n",
       "Name: geometry, Length: 4491, dtype: geometry"
      ]
     },
     "execution_count": 90,
     "metadata": {},
     "output_type": "execute_result"
    }
   ],
   "source": [
    "all_df['geometry']"
   ]
  },
  {
   "cell_type": "code",
   "execution_count": null,
   "metadata": {},
   "outputs": [],
   "source": []
  }
 ],
 "metadata": {
  "kernelspec": {
   "display_name": "Python 3",
   "language": "python",
   "name": "python3"
  },
  "language_info": {
   "codemirror_mode": {
    "name": "ipython",
    "version": 3
   },
   "file_extension": ".py",
   "mimetype": "text/x-python",
   "name": "python",
   "nbconvert_exporter": "python",
   "pygments_lexer": "ipython3",
   "version": "3.8.3"
  }
 },
 "nbformat": 4,
 "nbformat_minor": 4
}
