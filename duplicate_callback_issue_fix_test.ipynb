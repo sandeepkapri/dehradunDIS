{
 "cells": [
  {
   "cell_type": "code",
   "execution_count": 1,
   "id": "3bb123da",
   "metadata": {},
   "outputs": [],
   "source": [
    "import dash\n",
    "import dash_html_components as html\n",
    "import dash_core_components as dcc\n",
    "from dash.dependencies import Output, Input, State\n",
    "import dash_bootstrap_components as dbc\n",
    "from dash_extensions.callback import CallbackGrouper"
   ]
  },
  {
   "cell_type": "code",
   "execution_count": 2,
   "id": "e82b9b0a",
   "metadata": {},
   "outputs": [],
   "source": [
    "app = dash.Dash(__name__, external_stylesheets=[dbc.themes.BOOTSTRAP])\n",
    "\n",
    "app.layout = html.Div([\n",
    "                    html.H1(id='texty'),\n",
    "                    html.H1(id='texty2'),\n",
    "                    dbc.Button('Submit', id='submit-val'),\n",
    "                    dbc.Button(\"Download File\", id='link'),\n",
    "                    dbc.Input(id='texty3', type='text')\n",
    "            ])\n",
    "\n",
    "\n",
    "@app.callback(Output('texty','children'), \n",
    "              [Input('submit-val', 'n_clicks'),Input('link', 'n_clicks')], \n",
    "              [State('texty3', 'value')])\n",
    "def click_btn1(n, n1, t):\n",
    "    ctx = dash.callback_context\n",
    "\n",
    "    if not ctx.triggered:\n",
    "        button_id = 'No clicks yet'\n",
    "    else:\n",
    "        button_id = ctx.triggered[0]['prop_id'].split('.')[0]\n",
    "    \n",
    "    if(button_id == 'submit-val'):\n",
    "        return \"Submit Karibu Ki Maghia?\"\n",
    "    elif(button_id == 'link'):\n",
    "        return 'Download karibu ki maghia?'\n",
    "\n",
    "\n",
    "\n"
   ]
  },
  {
   "cell_type": "code",
   "execution_count": null,
   "id": "b7a96c15",
   "metadata": {},
   "outputs": [
    {
     "name": "stdout",
     "output_type": "stream",
     "text": [
      "Dash is running on http://127.0.0.1:8051/\n",
      "\n",
      " * Serving Flask app \"__main__\" (lazy loading)\n",
      " * Environment: production\n",
      "   WARNING: This is a development server. Do not use it in a production deployment.\n",
      "   Use a production WSGI server instead.\n",
      " * Debug mode: off\n"
     ]
    },
    {
     "name": "stderr",
     "output_type": "stream",
     "text": [
      " * Running on http://127.0.0.1:8051/ (Press CTRL+C to quit)\n",
      "127.0.0.1 - - [16/May/2021 14:11:50] \"\u001b[37mGET / HTTP/1.1\u001b[0m\" 200 -\n",
      "127.0.0.1 - - [16/May/2021 14:11:50] \"\u001b[37mGET /_dash-layout HTTP/1.1\u001b[0m\" 200 -\n",
      "127.0.0.1 - - [16/May/2021 14:11:50] \"\u001b[37mGET /_dash-dependencies HTTP/1.1\u001b[0m\" 200 -\n",
      "127.0.0.1 - - [16/May/2021 14:11:50] \"\u001b[37mGET /_favicon.ico?v=1.16.3 HTTP/1.1\u001b[0m\" 200 -\n",
      "127.0.0.1 - - [16/May/2021 14:11:50] \"\u001b[37mPOST /_dash-update-component HTTP/1.1\u001b[0m\" 200 -\n",
      "127.0.0.1 - - [16/May/2021 14:11:51] \"\u001b[37mPOST /_dash-update-component HTTP/1.1\u001b[0m\" 200 -\n",
      "127.0.0.1 - - [16/May/2021 14:11:52] \"\u001b[37mPOST /_dash-update-component HTTP/1.1\u001b[0m\" 200 -\n",
      "127.0.0.1 - - [16/May/2021 14:11:53] \"\u001b[37mPOST /_dash-update-component HTTP/1.1\u001b[0m\" 200 -\n"
     ]
    }
   ],
   "source": [
    "if __name__ == '__main__':\n",
    "    app.run_server(port=8051)"
   ]
  },
  {
   "cell_type": "markdown",
   "id": "b66cfcd6",
   "metadata": {},
   "source": [
    "## Dropdown MultiSelect Test"
   ]
  },
  {
   "cell_type": "code",
   "execution_count": 16,
   "id": "3715372d",
   "metadata": {},
   "outputs": [],
   "source": [
    "import dash\n",
    "import dash_html_components as html\n",
    "import dash_core_components as dcc\n",
    "from dash.dependencies import Output, Input, State\n",
    "import dash_bootstrap_components as dbc"
   ]
  },
  {
   "cell_type": "code",
   "execution_count": 17,
   "id": "e3460f78",
   "metadata": {},
   "outputs": [],
   "source": [
    "app = dash.Dash(__name__, external_stylesheets=[dbc.themes.BOOTSTRAP])\n",
    "\n",
    "app.layout = html.Div([\n",
    "                    html.H1(id='texty'),\n",
    "                    dbc.Button('Submit', id='submit-val'),\n",
    "                    dcc.RangeSlider(\n",
    "                        id = 'di',\n",
    "                        min=0,\n",
    "                        max=100,\n",
    "                        value=[10, 65],\n",
    "                        marks={\n",
    "                            0: {'label': '0°C', 'style': {'color': '#77b0b1'}},\n",
    "                            26: {'label': '26°C'},\n",
    "                            37: {'label': '37°C'},\n",
    "                            100: {'label': '100°C', 'style': {'color': '#f50'}}\n",
    "                        }\n",
    "                    )  \n",
    "            ])\n",
    "\n",
    "\n",
    "@app.callback(Output('texty', 'children'), [Input('submit-val', 'n_clicks')], [State('di', 'value')])\n",
    "def show_data(n, vals):\n",
    "    if(n):\n",
    "        print(vals)\n",
    "        return vals"
   ]
  },
  {
   "cell_type": "code",
   "execution_count": null,
   "id": "589f38dd",
   "metadata": {},
   "outputs": [
    {
     "name": "stdout",
     "output_type": "stream",
     "text": [
      "Dash is running on http://127.0.0.1:8051/\n",
      "\n",
      "Dash is running on http://127.0.0.1:8051/\n",
      "\n",
      "Dash is running on http://127.0.0.1:8051/\n",
      "\n",
      "Dash is running on http://127.0.0.1:8051/\n",
      "\n",
      " * Serving Flask app \"__main__\" (lazy loading)\n",
      " * Environment: production\n",
      "   WARNING: This is a development server. Do not use it in a production deployment.\n",
      "   Use a production WSGI server instead.\n",
      " * Debug mode: off\n"
     ]
    },
    {
     "name": "stderr",
     "output_type": "stream",
     "text": [
      " * Running on http://127.0.0.1:8051/ (Press CTRL+C to quit)\n",
      "127.0.0.1 - - [17/May/2021 08:35:57] \"\u001b[37mGET / HTTP/1.1\u001b[0m\" 200 -\n",
      "127.0.0.1 - - [17/May/2021 08:35:58] \"\u001b[37mGET /_dash-layout HTTP/1.1\u001b[0m\" 200 -\n",
      "127.0.0.1 - - [17/May/2021 08:35:58] \"\u001b[37mGET /_dash-dependencies HTTP/1.1\u001b[0m\" 200 -\n",
      "127.0.0.1 - - [17/May/2021 08:35:58] \"\u001b[37mGET /_favicon.ico?v=1.16.3 HTTP/1.1\u001b[0m\" 200 -\n",
      "127.0.0.1 - - [17/May/2021 08:35:58] \"\u001b[37mPOST /_dash-update-component HTTP/1.1\u001b[0m\" 200 -\n",
      "127.0.0.1 - - [17/May/2021 08:35:58] \"\u001b[37mGET /_dash-component-suites/dash_core_components/async-slider.v1_12_1m1600286997.js HTTP/1.1\u001b[0m\" 200 -\n",
      "127.0.0.1 - - [17/May/2021 08:36:01] \"\u001b[37mPOST /_dash-update-component HTTP/1.1\u001b[0m\" 200 -\n"
     ]
    },
    {
     "name": "stdout",
     "output_type": "stream",
     "text": [
      "[19, 65]\n"
     ]
    }
   ],
   "source": [
    "if __name__ == '__main__':\n",
    "    app.run_server(port=8051)"
   ]
  },
  {
   "cell_type": "code",
   "execution_count": 8,
   "id": "e3e2e810",
   "metadata": {},
   "outputs": [],
   "source": [
    "import pandas as pd"
   ]
  },
  {
   "cell_type": "code",
   "execution_count": 9,
   "id": "f93778f1",
   "metadata": {},
   "outputs": [],
   "source": [
    "df = pd.DataFrame()\n",
    "\n",
    "df['vals'] = ['A', 'B', 'C', 'D']\n",
    "df['something'] = [75, 78, 73, 95]"
   ]
  },
  {
   "cell_type": "code",
   "execution_count": 15,
   "id": "e8f8f4e3",
   "metadata": {},
   "outputs": [
    {
     "data": {
      "text/html": [
       "<div>\n",
       "<style scoped>\n",
       "    .dataframe tbody tr th:only-of-type {\n",
       "        vertical-align: middle;\n",
       "    }\n",
       "\n",
       "    .dataframe tbody tr th {\n",
       "        vertical-align: top;\n",
       "    }\n",
       "\n",
       "    .dataframe thead th {\n",
       "        text-align: right;\n",
       "    }\n",
       "</style>\n",
       "<table border=\"1\" class=\"dataframe\">\n",
       "  <thead>\n",
       "    <tr style=\"text-align: right;\">\n",
       "      <th></th>\n",
       "      <th>vals</th>\n",
       "      <th>something</th>\n",
       "    </tr>\n",
       "  </thead>\n",
       "  <tbody>\n",
       "    <tr>\n",
       "      <th>1</th>\n",
       "      <td>B</td>\n",
       "      <td>78</td>\n",
       "    </tr>\n",
       "    <tr>\n",
       "      <th>2</th>\n",
       "      <td>C</td>\n",
       "      <td>73</td>\n",
       "    </tr>\n",
       "  </tbody>\n",
       "</table>\n",
       "</div>"
      ],
      "text/plain": [
       "  vals  something\n",
       "1    B         78\n",
       "2    C         73"
      ]
     },
     "execution_count": 15,
     "metadata": {},
     "output_type": "execute_result"
    }
   ],
   "source": [
    "df[df['vals'].isin([ 'B', 'C', 'E'])]"
   ]
  },
  {
   "cell_type": "code",
   "execution_count": null,
   "id": "498dccb0",
   "metadata": {},
   "outputs": [],
   "source": []
  }
 ],
 "metadata": {
  "kernelspec": {
   "display_name": "Python 3",
   "language": "python",
   "name": "python3"
  },
  "language_info": {
   "codemirror_mode": {
    "name": "ipython",
    "version": 3
   },
   "file_extension": ".py",
   "mimetype": "text/x-python",
   "name": "python",
   "nbconvert_exporter": "python",
   "pygments_lexer": "ipython3",
   "version": "3.8.8"
  }
 },
 "nbformat": 4,
 "nbformat_minor": 5
}
