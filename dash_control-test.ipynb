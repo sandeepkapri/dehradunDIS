{
 "cells": [
  {
   "cell_type": "markdown",
   "id": "tracked-transmission",
   "metadata": {},
   "source": [
    "# Dash Control Test"
   ]
  },
  {
   "cell_type": "code",
   "execution_count": null,
   "id": "connected-drill",
   "metadata": {},
   "outputs": [
    {
     "name": "stdout",
     "output_type": "stream",
     "text": [
      "Dash is running on http://127.0.0.1:8050/\n",
      "\n",
      " * Serving Flask app \"__main__\" (lazy loading)\n",
      " * Environment: production\n",
      "   WARNING: This is a development server. Do not use it in a production deployment.\n",
      "   Use a production WSGI server instead.\n",
      " * Debug mode: off\n"
     ]
    },
    {
     "name": "stderr",
     "output_type": "stream",
     "text": [
      " * Running on http://127.0.0.1:8050/ (Press CTRL+C to quit)\n",
      "127.0.0.1 - - [24/May/2021 13:38:14] \"\u001b[37mGET / HTTP/1.1\u001b[0m\" 200 -\n",
      "127.0.0.1 - - [24/May/2021 13:38:15] \"\u001b[37mGET /_dash-layout HTTP/1.1\u001b[0m\" 200 -\n",
      "127.0.0.1 - - [24/May/2021 13:38:15] \"\u001b[37mGET /_dash-dependencies HTTP/1.1\u001b[0m\" 200 -\n",
      "127.0.0.1 - - [24/May/2021 13:38:15] \"\u001b[37mGET /_favicon.ico?v=1.16.3 HTTP/1.1\u001b[0m\" 200 -\n",
      "127.0.0.1 - - [24/May/2021 13:51:42] \"\u001b[37mGET / HTTP/1.1\u001b[0m\" 200 -\n",
      "127.0.0.1 - - [24/May/2021 13:51:43] \"\u001b[37mGET /_dash-layout HTTP/1.1\u001b[0m\" 200 -\n",
      "127.0.0.1 - - [24/May/2021 13:51:43] \"\u001b[37mGET /_dash-dependencies HTTP/1.1\u001b[0m\" 200 -\n",
      "127.0.0.1 - - [24/May/2021 13:51:43] \"\u001b[37mGET /_favicon.ico?v=1.16.3 HTTP/1.1\u001b[0m\" 200 -\n",
      "127.0.0.1 - - [24/May/2021 13:51:45] \"\u001b[37mGET / HTTP/1.1\u001b[0m\" 200 -\n",
      "127.0.0.1 - - [24/May/2021 13:51:45] \"\u001b[37mGET /_dash-layout HTTP/1.1\u001b[0m\" 200 -\n",
      "127.0.0.1 - - [24/May/2021 13:51:45] \"\u001b[37mGET /_dash-dependencies HTTP/1.1\u001b[0m\" 200 -\n",
      "127.0.0.1 - - [24/May/2021 13:51:45] \"\u001b[37mGET /_favicon.ico?v=1.16.3 HTTP/1.1\u001b[0m\" 200 -\n"
     ]
    }
   ],
   "source": [
    "\n",
    "import dash\n",
    "from dash.dependencies import Input, Output, State\n",
    "import dash_core_components as dcc\n",
    "import dash_html_components as html\n",
    "import dash_bootstrap_components as dbc\n",
    "\n",
    "\n",
    "\n",
    "app = dash.Dash(__name__, external_stylesheets=[dbc.themes.BOOTSTRAP])\n",
    "\n",
    "app.layout = html.Div([\n",
    "    dbc.FormGroup(\n",
    "            [\n",
    "                dbc.Checkbox(\n",
    "                    id=\"standalone-checkbox\", className=\"form-check-input\"\n",
    "                ),\n",
    "                dbc.Label(\n",
    "                    [html.Span(style = {\n",
    "                      'height': '10px',\n",
    "                      'width': '10px',\n",
    "                      'background-color': '#bbb',\n",
    "                      'border-radius': '50%',\n",
    "                      'display': 'inline-block',\n",
    "                        'margin-right': '10px',\n",
    "                    }),\"This is a checkbox\"],\n",
    "                    html_for=\"standalone-checkbox\",\n",
    "                    className=\"form-check-label\",\n",
    "                ),\n",
    "                \n",
    "                \n",
    "            ],\n",
    "            check=True,\n",
    "        ),\n",
    "    \n",
    "    dbc.FormGroup([\n",
    "        dbc.Checkbox(\n",
    "                    id=\"standalone-checkbox2\", className=\"form-check-input\"\n",
    "                ),\n",
    "                dbc.Label(\n",
    "                    [html.Span(style = {\n",
    "                      'height': '5px',\n",
    "                      'width': '15px',\n",
    "                      'background-color': '#bbb',\n",
    "                      'display': 'inline-block',\n",
    "                      'margin-right': '10px',\n",
    "                        'margin-bottom': '4px'\n",
    "                    }),\"This is a checkbox\"],\n",
    "                    html_for=\"standalone-checkbox2\",\n",
    "                    className=\"form-check-label\",\n",
    "                ),\n",
    "        \n",
    "    ], check=True)\n",
    "\n",
    "])\n",
    "\n",
    "\n",
    "\n",
    "\n",
    "\n",
    "if __name__ == '__main__':\n",
    "    app.run_server()"
   ]
  },
  {
   "cell_type": "code",
   "execution_count": null,
   "id": "4262738e",
   "metadata": {},
   "outputs": [],
   "source": []
  }
 ],
 "metadata": {
  "kernelspec": {
   "display_name": "Python 3",
   "language": "python",
   "name": "python3"
  },
  "language_info": {
   "codemirror_mode": {
    "name": "ipython",
    "version": 3
   },
   "file_extension": ".py",
   "mimetype": "text/x-python",
   "name": "python",
   "nbconvert_exporter": "python",
   "pygments_lexer": "ipython3",
   "version": "3.8.8"
  }
 },
 "nbformat": 4,
 "nbformat_minor": 5
}
