{
 "cells": [
  {
   "cell_type": "markdown",
   "id": "demonstrated-management",
   "metadata": {},
   "source": [
    "# SMTP Test\n",
    "\n",
    "Test Mail ID: jjjhkrmntest@gmail.com\n",
    "\n",
    "Pass: RBS@1234\n",
    "\n",
    "Tut: https://realpython.com/python-send-email/"
   ]
  },
  {
   "cell_type": "code",
   "execution_count": 3,
   "id": "hairy-whole",
   "metadata": {},
   "outputs": [],
   "source": [
    "import smtplib, ssl\n",
    "\n",
    "port = 465  # For SSL\n",
    "password = \"RBS@1234\"\n",
    "\n",
    "sender_email = \"jjjhkrmntest@gmail.com\"\n",
    "receiver_email = \"jjjhkrmntest@gmail.com\"\n",
    "message = \"\"\"\\\n",
    "Subject: Hi there\n",
    "\n",
    "This message is sent from Python.\"\"\"\n",
    "\n",
    "\n",
    "# Create a secure SSL context\n",
    "context = ssl.create_default_context()\n",
    "\n",
    "with smtplib.SMTP_SSL(\"smtp.gmail.com\", port, context=context) as server:\n",
    "    server.login(\"jjjhkrmntest@gmail.com\", password)\n",
    "    server.sendmail(sender_email, receiver_email, message)"
   ]
  },
  {
   "cell_type": "code",
   "execution_count": null,
   "id": "assumed-lunch",
   "metadata": {},
   "outputs": [],
   "source": []
  }
 ],
 "metadata": {
  "kernelspec": {
   "display_name": "Python 3",
   "language": "python",
   "name": "python3"
  },
  "language_info": {
   "codemirror_mode": {
    "name": "ipython",
    "version": 3
   },
   "file_extension": ".py",
   "mimetype": "text/x-python",
   "name": "python",
   "nbconvert_exporter": "python",
   "pygments_lexer": "ipython3",
   "version": "3.8.5"
  }
 },
 "nbformat": 4,
 "nbformat_minor": 5
}
